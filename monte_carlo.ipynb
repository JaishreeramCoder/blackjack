{
 "cells": [
  {
   "cell_type": "code",
   "execution_count": 40,
   "metadata": {},
   "outputs": [],
   "source": [
    "import numpy as np\n",
    "from tqdm import tqdm"
   ]
  },
  {
   "cell_type": "markdown",
   "metadata": {},
   "source": [
    "## Hyperparamters"
   ]
  },
  {
   "cell_type": "code",
   "execution_count": 41,
   "metadata": {},
   "outputs": [],
   "source": [
    "gamma = 0.9\n",
    "alpha = 0.02\n",
    "num_episodes = 1000000\n",
    "eval_episodes = 100000\n",
    "epsilon = 0.1\n",
    "deck = [2, 3, 4, 5, 6, 7, 8, 9, 10, 10, 10, 10, 11]\n",
    "action = [0, 1]"
   ]
  },
  {
   "cell_type": "code",
   "execution_count": 42,
   "metadata": {},
   "outputs": [],
   "source": [
    "def get_random_state(deck):\n",
    "    non_ace_sum = 0\n",
    "    cnt_ace = 0\n",
    "    while True:\n",
    "        card = np.random.choice(deck)\n",
    "        if card == 11:\n",
    "            cnt_ace += 1\n",
    "        else:\n",
    "            non_ace_sum += card\n",
    "        sum11 = cnt_ace * 11 + non_ace_sum\n",
    "        sum1 = cnt_ace * 1 + non_ace_sum\n",
    "        if sum11 >= 12 and sum11 <= 21:\n",
    "            break\n",
    "        elif sum1 >= 12 and sum1 <= 21:\n",
    "            break\n",
    "\n",
    "    dealer_sum = np.random.choice(deck)\n",
    "    return (non_ace_sum, cnt_ace, dealer_sum)"
   ]
  },
  {
   "cell_type": "code",
   "execution_count": 43,
   "metadata": {},
   "outputs": [],
   "source": [
    "def train(s, a, qnew, q):\n",
    "    \"\"\"\n",
    "    Training a natural blackjack model using constant alpha monte carlo method\n",
    "    \"\"\"\n",
    "    non_ace_sum, cnt_ace, dealer_sum = s\n",
    "    sum11 = cnt_ace * 11 + non_ace_sum\n",
    "    sum1 = cnt_ace * 1 + non_ace_sum\n",
    "    if sum11 == 21 or sum1 == 21:\n",
    "        return 1\n",
    "    elif sum1 > 21:\n",
    "        return -1\n",
    "    else:\n",
    "        if a == 0:\n",
    "            sum = sum11 if sum11 >= 12 and sum11 <= 21 else sum1\n",
    "            dealer_cnt_ace, dealer_non_ace_sum = (\n",
    "                (1, 0) if dealer_sum == 11 else (0, dealer_sum)\n",
    "            )\n",
    "            while True:\n",
    "                dealer_card = np.random.choice(deck)\n",
    "                if dealer_card == 11:\n",
    "                    dealer_cnt_ace += 1\n",
    "                else:\n",
    "                    dealer_non_ace_sum += dealer_card\n",
    "                dsum1 = dealer_cnt_ace * 1 + dealer_non_ace_sum\n",
    "                dsum11 = dealer_cnt_ace * 11 + dealer_non_ace_sum\n",
    "                if dsum1 > 21:\n",
    "                    return 1\n",
    "                if dsum1 == 21 or dsum11 == 21:\n",
    "                    return -1\n",
    "                if dsum1 > 16:\n",
    "                    return 0 if dsum1 == sum else -1 if dsum1 > sum else 1\n",
    "                if dsum11 > 16 and dsum11 <= 21:\n",
    "                    return 0 if dsum11 == sum else -1 if dsum11 > sum else 1\n",
    "        else:\n",
    "            card = np.random.choice(deck)\n",
    "            if card == 11:\n",
    "                cnt_ace += 1\n",
    "            else:\n",
    "                non_ace_sum += card\n",
    "            snew = (non_ace_sum, cnt_ace, dealer_sum)\n",
    "            anew = (\n",
    "                np.random.choice(action)\n",
    "                if np.random.rand() <= epsilon\n",
    "                else np.argmax(q[*snew, :])\n",
    "            )\n",
    "            G = train(snew, anew, qnew, q)\n",
    "            qnew[*s, a] = qnew[*s, a] + alpha * (G - qnew[*s, a])\n",
    "            return G * gamma\n",
    "    return 0"
   ]
  },
  {
   "cell_type": "code",
   "execution_count": 44,
   "metadata": {},
   "outputs": [],
   "source": [
    "def eval(s, a, q):\n",
    "    \"\"\"\n",
    "    returns 1(Win), -1(Loss), 0(Draw) when played according the policy based on q\n",
    "    \"\"\"\n",
    "    non_ace_sum, cnt_ace, dealer_sum = s\n",
    "    sum11 = cnt_ace * 11 + non_ace_sum\n",
    "    sum1 = cnt_ace * 1 + non_ace_sum\n",
    "    if sum11 == 21 or sum1 == 21:\n",
    "        return 1\n",
    "    elif sum1 > 21:\n",
    "        return -1\n",
    "    else:\n",
    "        if a == 0:\n",
    "            sum = sum11 if sum11 >= 12 and sum11 <= 21 else sum1\n",
    "            dealer_cnt_ace, dealer_non_ace_sum = (\n",
    "                (1, 0) if dealer_sum == 11 else (0, dealer_sum)\n",
    "            )\n",
    "            while True:\n",
    "                dealer_card = np.random.choice(deck)\n",
    "                if dealer_card == 11:\n",
    "                    dealer_cnt_ace += 1\n",
    "                else:\n",
    "                    dealer_non_ace_sum += dealer_card\n",
    "                dsum1 = dealer_cnt_ace * 1 + dealer_non_ace_sum\n",
    "                dsum11 = dealer_cnt_ace * 11 + dealer_non_ace_sum\n",
    "                if dsum1 > 21:\n",
    "                    return 1\n",
    "                if dsum1 == 21 or dsum11 == 21:\n",
    "                    return -1\n",
    "                if dsum1 > 16:\n",
    "                    return 0 if dsum1 == sum else -1 if dsum1 > sum else 1\n",
    "                if dsum11 > 16 and dsum11 <= 21:\n",
    "                    return 0 if dsum11 == sum else -1 if dsum11 > sum else 1\n",
    "        else:\n",
    "            card = np.random.choice(deck)\n",
    "            if card == 11:\n",
    "                cnt_ace += 1\n",
    "            else:\n",
    "                non_ace_sum += card\n",
    "            snew = (non_ace_sum, cnt_ace, dealer_sum)\n",
    "            anew = np.argmax(q[*snew, :])\n",
    "            G = eval(snew, anew, q)\n",
    "            return G\n",
    "    return 0"
   ]
  },
  {
   "cell_type": "markdown",
   "metadata": {},
   "source": [
    "## Training"
   ]
  },
  {
   "cell_type": "code",
   "execution_count": 49,
   "metadata": {},
   "outputs": [
    {
     "name": "stderr",
     "output_type": "stream",
     "text": [
      "100%|██████████| 1000000/1000000 [03:56<00:00, 4224.06it/s]\n"
     ]
    }
   ],
   "source": [
    "q = np.zeros((32, 22, 12, 2))\n",
    "for episode in tqdm(range(num_episodes)):\n",
    "    qnew = q.copy()\n",
    "    s0 = get_random_state(deck)\n",
    "    a = (\n",
    "        np.random.choice(action)\n",
    "        if np.random.rand() <= epsilon\n",
    "        else np.argmax(q[*s0, :])\n",
    "    )\n",
    "    G = train(s0, a, qnew, q)\n",
    "    qnew = qnew + alpha * (G - qnew[*s0, a])\n",
    "    q = qnew"
   ]
  },
  {
   "cell_type": "markdown",
   "metadata": {},
   "source": [
    "## Evaluation"
   ]
  },
  {
   "cell_type": "code",
   "execution_count": 50,
   "metadata": {},
   "outputs": [
    {
     "name": "stderr",
     "output_type": "stream",
     "text": [
      "100%|██████████| 100000/100000 [00:21<00:00, 4645.30it/s]"
     ]
    },
    {
     "name": "stdout",
     "output_type": "stream",
     "text": [
      "Win% = 42.424\n",
      "Draw% = 5.889\n",
      "Loss% = 51.687\n"
     ]
    },
    {
     "name": "stderr",
     "output_type": "stream",
     "text": [
      "\n"
     ]
    }
   ],
   "source": [
    "win = 0.0\n",
    "loss = 0.0\n",
    "draw = 0.0\n",
    "for episode in tqdm(range(eval_episodes)):\n",
    "    s0 = get_random_state(deck)\n",
    "    a = np.argmax(q[*s0, :])\n",
    "    score = eval(s0, a, q)\n",
    "    if score == 1:\n",
    "        win += 1\n",
    "    elif score == -1:\n",
    "        loss += 1\n",
    "    else:\n",
    "        draw += 1\n",
    "\n",
    "print(f\"Win% = {(win*100)/eval_episodes:.3f}\")\n",
    "print(f\"Draw% = {(draw*100)/eval_episodes:.3f}\")\n",
    "print(f\"Loss% = {(loss*100)/eval_episodes:.3f}\")"
   ]
  }
 ],
 "metadata": {
  "kernelspec": {
   "display_name": "Python 3 (ipykernel)",
   "language": "python",
   "name": "python3"
  },
  "language_info": {
   "codemirror_mode": {
    "name": "ipython",
    "version": 3
   },
   "file_extension": ".py",
   "mimetype": "text/x-python",
   "name": "python",
   "nbconvert_exporter": "python",
   "pygments_lexer": "ipython3",
   "version": "3.10.12"
  }
 },
 "nbformat": 4,
 "nbformat_minor": 4
}
